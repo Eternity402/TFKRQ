{
  "nbformat": 4,
  "nbformat_minor": 0,
  "metadata": {
    "colab": {
      "name": "resnet_DIY.ipynb",
      "provenance": [],
      "collapsed_sections": [],
      "mount_file_id": "15W3_cWuvKmvD-17BbsLVFGZS4dE6IkU8",
      "authorship_tag": "ABX9TyNPubAGdwQZJFnjrwYP9/eO",
      "include_colab_link": true
    },
    "kernelspec": {
      "name": "python3",
      "display_name": "Python 3"
    }
  },
  "cells": [
    {
      "cell_type": "markdown",
      "metadata": {
        "id": "view-in-github",
        "colab_type": "text"
      },
      "source": [
        "<a href=\"https://colab.research.google.com/github/Eternity402/TFKRQ/blob/master/resnet_DIY.ipynb\" target=\"_parent\"><img src=\"https://colab.research.google.com/assets/colab-badge.svg\" alt=\"Open In Colab\"/></a>"
      ]
    },
    {
      "cell_type": "code",
      "metadata": {
        "id": "1Ru1HeMB5K1p",
        "colab_type": "code",
        "outputId": "39a4d479-9429-4248-8b22-31f1c290f30f",
        "colab": {
          "base_uri": "https://localhost:8080/",
          "height": 575
        }
      },
      "source": [
        "import numpy as np\n",
        "import matplotlib.pyplot as plt\n",
        "import random as rd\n",
        "from __future__ import absolute_import, division, print_function, unicode_literals\n",
        "!pip install tensorflow-gpu==2.0.0-rc1\n",
        "import tensorflow as tf\n",
        "\n",
        "from tensorflow.keras.layers import Dense, Flatten, Conv2D, Dropout, BatchNormalization, AveragePooling2D, ReLU\n",
        "from tensorflow.keras import Model\n",
        "tf.config.experimental_run_functions_eagerly(True)"
      ],
      "execution_count": 0,
      "outputs": [
        {
          "output_type": "stream",
          "text": [
            "Collecting tensorflow-gpu==2.0.0-rc1\n",
            "\u001b[?25l  Downloading https://files.pythonhosted.org/packages/73/cf/2fc69ba3e59edc8333e2676fa71b40197718dea7dc1282c79955cf6b2acb/tensorflow_gpu-2.0.0rc1-cp36-cp36m-manylinux2010_x86_64.whl (380.5MB)\n",
            "\u001b[K     |████████████████████████████████| 380.5MB 43kB/s \n",
            "\u001b[?25hRequirement already satisfied: six>=1.10.0 in /usr/local/lib/python3.6/dist-packages (from tensorflow-gpu==2.0.0-rc1) (1.12.0)\n",
            "Collecting tb-nightly<1.15.0a20190807,>=1.15.0a20190806\n",
            "\u001b[?25l  Downloading https://files.pythonhosted.org/packages/bc/88/24b5fb7280e74c7cf65bde47c171547fd02afb3840cff41bcbe9270650f5/tb_nightly-1.15.0a20190806-py3-none-any.whl (4.3MB)\n",
            "\u001b[K     |████████████████████████████████| 4.3MB 48.2MB/s \n",
            "\u001b[?25hRequirement already satisfied: protobuf>=3.6.1 in /usr/local/lib/python3.6/dist-packages (from tensorflow-gpu==2.0.0-rc1) (3.10.0)\n",
            "Requirement already satisfied: keras-applications>=1.0.8 in /usr/local/lib/python3.6/dist-packages (from tensorflow-gpu==2.0.0-rc1) (1.0.8)\n",
            "Requirement already satisfied: astor>=0.6.0 in /usr/local/lib/python3.6/dist-packages (from tensorflow-gpu==2.0.0-rc1) (0.8.1)\n",
            "Requirement already satisfied: wrapt>=1.11.1 in /usr/local/lib/python3.6/dist-packages (from tensorflow-gpu==2.0.0-rc1) (1.12.1)\n",
            "Requirement already satisfied: keras-preprocessing>=1.0.5 in /usr/local/lib/python3.6/dist-packages (from tensorflow-gpu==2.0.0-rc1) (1.1.2)\n",
            "Requirement already satisfied: google-pasta>=0.1.6 in /usr/local/lib/python3.6/dist-packages (from tensorflow-gpu==2.0.0-rc1) (0.2.0)\n",
            "Requirement already satisfied: numpy<2.0,>=1.16.0 in /usr/local/lib/python3.6/dist-packages (from tensorflow-gpu==2.0.0-rc1) (1.18.4)\n",
            "Requirement already satisfied: absl-py>=0.7.0 in /usr/local/lib/python3.6/dist-packages (from tensorflow-gpu==2.0.0-rc1) (0.9.0)\n",
            "Collecting tf-estimator-nightly<1.14.0.dev2019080602,>=1.14.0.dev2019080601\n",
            "\u001b[?25l  Downloading https://files.pythonhosted.org/packages/21/28/f2a27a62943d5f041e4a6fd404b2d21cb7c59b2242a4e73b03d9ba166552/tf_estimator_nightly-1.14.0.dev2019080601-py2.py3-none-any.whl (501kB)\n",
            "\u001b[K     |████████████████████████████████| 501kB 47.5MB/s \n",
            "\u001b[?25hRequirement already satisfied: grpcio>=1.8.6 in /usr/local/lib/python3.6/dist-packages (from tensorflow-gpu==2.0.0-rc1) (1.29.0)\n",
            "Requirement already satisfied: wheel>=0.26 in /usr/local/lib/python3.6/dist-packages (from tensorflow-gpu==2.0.0-rc1) (0.34.2)\n",
            "Requirement already satisfied: termcolor>=1.1.0 in /usr/local/lib/python3.6/dist-packages (from tensorflow-gpu==2.0.0-rc1) (1.1.0)\n",
            "Requirement already satisfied: opt-einsum>=2.3.2 in /usr/local/lib/python3.6/dist-packages (from tensorflow-gpu==2.0.0-rc1) (3.2.1)\n",
            "Requirement already satisfied: gast>=0.2.0 in /usr/local/lib/python3.6/dist-packages (from tensorflow-gpu==2.0.0-rc1) (0.3.3)\n",
            "Requirement already satisfied: setuptools>=41.0.0 in /usr/local/lib/python3.6/dist-packages (from tb-nightly<1.15.0a20190807,>=1.15.0a20190806->tensorflow-gpu==2.0.0-rc1) (46.4.0)\n",
            "Requirement already satisfied: werkzeug>=0.11.15 in /usr/local/lib/python3.6/dist-packages (from tb-nightly<1.15.0a20190807,>=1.15.0a20190806->tensorflow-gpu==2.0.0-rc1) (1.0.1)\n",
            "Requirement already satisfied: markdown>=2.6.8 in /usr/local/lib/python3.6/dist-packages (from tb-nightly<1.15.0a20190807,>=1.15.0a20190806->tensorflow-gpu==2.0.0-rc1) (3.2.2)\n",
            "Requirement already satisfied: h5py in /usr/local/lib/python3.6/dist-packages (from keras-applications>=1.0.8->tensorflow-gpu==2.0.0-rc1) (2.10.0)\n",
            "Requirement already satisfied: importlib-metadata; python_version < \"3.8\" in /usr/local/lib/python3.6/dist-packages (from markdown>=2.6.8->tb-nightly<1.15.0a20190807,>=1.15.0a20190806->tensorflow-gpu==2.0.0-rc1) (1.6.0)\n",
            "Requirement already satisfied: zipp>=0.5 in /usr/local/lib/python3.6/dist-packages (from importlib-metadata; python_version < \"3.8\"->markdown>=2.6.8->tb-nightly<1.15.0a20190807,>=1.15.0a20190806->tensorflow-gpu==2.0.0-rc1) (3.1.0)\n",
            "Installing collected packages: tb-nightly, tf-estimator-nightly, tensorflow-gpu\n",
            "Successfully installed tb-nightly-1.15.0a20190806 tensorflow-gpu-2.0.0rc1 tf-estimator-nightly-1.14.0.dev2019080601\n"
          ],
          "name": "stdout"
        }
      ]
    },
    {
      "cell_type": "code",
      "metadata": {
        "id": "6baVAacH5aQ3",
        "colab_type": "code",
        "outputId": "be9a43ba-9be1-4531-d9e3-b25aa2b67ff8",
        "colab": {
          "base_uri": "https://localhost:8080/",
          "height": 53
        }
      },
      "source": [
        "# Dataset - CIFAR100\n",
        "cifar100 = tf.keras.datasets.cifar100\n",
        "(x_train, y_train), (x_test, y_test) = cifar100.load_data()\n",
        "x_train, x_test = x_train / 255.0, x_test / 255.0\n",
        "\n",
        "# Shuffle and make batch\n",
        "train_ds = tf.data.Dataset.from_tensor_slices(\n",
        "    (x_train, y_train)).shuffle(50000).batch(32)\n",
        "test_ds = tf.data.Dataset.from_tensor_slices((x_test, y_test)).batch(32)"
      ],
      "execution_count": 0,
      "outputs": [
        {
          "output_type": "stream",
          "text": [
            "Downloading data from https://www.cs.toronto.edu/~kriz/cifar-100-python.tar.gz\n",
            "169009152/169001437 [==============================] - 4s 0us/step\n"
          ],
          "name": "stdout"
        }
      ]
    },
    {
      "cell_type": "code",
      "metadata": {
        "id": "8EZw1dahr1yU",
        "colab_type": "code",
        "outputId": "eb0a24b0-dcd5-42d6-cd17-35f93dfe0c3e",
        "colab": {
          "base_uri": "https://localhost:8080/",
          "height": 343
        }
      },
      "source": [
        "EPOCHS = 50\n",
        "hist = np.empty(shape=(2,EPOCHS))\n",
        "class MyModel(Model):\n",
        "  def __init__(self):\n",
        "    super(MyModel, self).__init__()\n",
        "    self.conv1 = Conv2D(64, (3,3), strides = (1,1), padding = 'same', activation='linear',input_shape=x_train.shape[1:])\n",
        "    self.bn1 = BatchNormalization()\n",
        "    self.RL = ReLU()\n",
        "    self.avg = AveragePooling2D((4,4))\n",
        "    self.flatten = Flatten()\n",
        "    self.FC = Dense(100, activation='softmax')\n",
        "\n",
        "  def make_BB(self, x,num_filter, size_decrease):\n",
        "    if size_decrease == True:\n",
        "      C1 = Conv2D(num_filter, (3,3),padding = 'same',strides = (2,2),activation = 'linear')\n",
        "      B1 = BatchNormalization()\n",
        "      R1 = ReLU()\n",
        "      C2 = Conv2D(num_filter, (3,3),padding = 'same',strides = (1,1),activation = 'linear')\n",
        "      B2 = BatchNormalization()\n",
        "      C3 = Conv2D(num_filter, (1,1),padding= 'same', strides = (2,2),activation = 'linear')\n",
        "      B3 = BatchNormalization()\n",
        "      forward = B2(C2(R1(B1(C1(x))))) + B3(C3(x))\n",
        "      return ReLU()(forward)\n",
        "    else:\n",
        "      C1 = Conv2D(num_filter, (3,3),padding = 'same',strides = (1,1),activation = 'linear')\n",
        "      B1 = BatchNormalization()\n",
        "      R1 = ReLU()\n",
        "      C2 = Conv2D(num_filter, (3,3),padding = 'same',strides = (1,1),activation = 'linear')\n",
        "      B2 = BatchNormalization()\n",
        "      forward = B2(C2(R1(B1(C1(x))))) + x\n",
        "      return ReLU()(forward)\n",
        "\n",
        "\n",
        "  def call(self, x):\n",
        "    x = self.conv1(x)\n",
        "    x = self.bn1(x)\n",
        "    x = self.RL(x)\n",
        "    # BasicBlock1\n",
        "    x = self.make_BB(x,64,False)\n",
        "    x = self.make_BB(x,64,False)\n",
        "    # BasicBlock2 \n",
        "    x = self.make_BB(x,128,True)\n",
        "    x = self.make_BB(x,128,False)\n",
        "    # BasicBlock3\n",
        "    x = self.make_BB(x,256,True)\n",
        "    x = self.make_BB(x,256,False)\n",
        "    # BasicBlock4\n",
        "    x = self.make_BB(x,512,True)\n",
        "    x = self.make_BB(x,512,False)\n",
        "\n",
        "    x = self.avg(x)\n",
        "    x = self.flatten(x)\n",
        "    return self.FC(x)\n",
        "  \n",
        "  # func is just for displaying model summary.\n",
        "  def func(self):\n",
        "    x = tf.keras.layers.Input(shape=(32, 32, 3))\n",
        "    return Model(inputs=[x], outputs=self.call(x))\n",
        "    \n",
        "model = MyModel()\n",
        "\n",
        "\n",
        "optimizer = tf.keras.optimizers.Adam(0.001)\n",
        "model.compile(optimizer= optimizer,\n",
        "              loss='sparse_categorical_crossentropy',\n",
        "              metrics=['sparse_categorical_accuracy'])\n",
        "model.fit(x_train,y_train, epochs = 50)"
      ],
      "execution_count": 0,
      "outputs": [
        {
          "output_type": "stream",
          "text": [
            "WARNING:tensorflow:Entity <bound method MyModel.call of <__main__.MyModel object at 0x7f3b3887c6a0>> could not be transformed and will be executed as-is. Please report this to the AutoGraph team. When filing the bug, set the verbosity to 10 (on Linux, `export AUTOGRAPH_VERBOSITY=10`) and attach the full output. Cause: Bad argument number for Name: 3, expecting 4\n",
            "WARNING: Entity <bound method MyModel.call of <__main__.MyModel object at 0x7f3b3887c6a0>> could not be transformed and will be executed as-is. Please report this to the AutoGraph team. When filing the bug, set the verbosity to 10 (on Linux, `export AUTOGRAPH_VERBOSITY=10`) and attach the full output. Cause: Bad argument number for Name: 3, expecting 4\n",
            "Train on 50000 samples\n",
            "Epoch 1/50\n",
            "50000/50000 [==============================] - 6380s 128ms/sample - loss: 15.9479 - sparse_categorical_accuracy: 0.0100\n",
            "Epoch 2/50\n",
            "50000/50000 [==============================] - 6313s 126ms/sample - loss: 15.9569 - sparse_categorical_accuracy: 0.0100\n",
            "Epoch 3/50\n",
            "50000/50000 [==============================] - 6388s 128ms/sample - loss: 15.9569 - sparse_categorical_accuracy: 0.0100\n",
            "Epoch 4/50\n",
            "50000/50000 [==============================] - 6390s 128ms/sample - loss: 15.9569 - sparse_categorical_accuracy: 0.0100\n",
            "Epoch 5/50\n",
            "50000/50000 [==============================] - 6333s 127ms/sample - loss: 15.9569 - sparse_categorical_accuracy: 0.0100\n",
            "Epoch 6/50\n",
            "50000/50000 [==============================] - 6364s 127ms/sample - loss: 15.9569 - sparse_categorical_accuracy: 0.0100\n",
            "Epoch 7/50\n",
            "12352/50000 [======>.......................] - ETA: 1:20:05 - loss: 15.9654 - sparse_categorical_accuracy: 0.0095"
          ],
          "name": "stdout"
        }
      ]
    }
  ]
}